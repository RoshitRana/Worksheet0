{
  "nbformat": 4,
  "nbformat_minor": 0,
  "metadata": {
    "colab": {
      "provenance": [],
      "mount_file_id": "1nUQogLdK_y6IbU1pikAX-xlfZf8rC6e7",
      "authorship_tag": "ABX9TyPgLvJhog2Q8LIkFKdGripu",
      "include_colab_link": true
    },
    "kernelspec": {
      "name": "python3",
      "display_name": "Python 3"
    },
    "language_info": {
      "name": "python"
    }
  },
  "cells": [
    {
      "cell_type": "markdown",
      "metadata": {
        "id": "view-in-github",
        "colab_type": "text"
      },
      "source": [
        "<a href=\"https://colab.research.google.com/github/RoshitRana/Worksheet0/blob/main/workshop1.ipynb\" target=\"_parent\"><img src=\"https://colab.research.google.com/assets/colab-badge.svg\" alt=\"Open In Colab\"/></a>"
      ]
    },
    {
      "cell_type": "markdown",
      "source": [
        "Qno.1"
      ],
      "metadata": {
        "id": "PYAlOkE3HeUU"
      }
    },
    {
      "cell_type": "code",
      "execution_count": null,
      "metadata": {
        "colab": {
          "base_uri": "https://localhost:8080/"
        },
        "id": "mV-oQZ1-G1Nl",
        "outputId": "f33dbb8f-9b94-4217-fb61-f3c61bbe339d"
      },
      "outputs": [
        {
          "output_type": "stream",
          "name": "stdout",
          "text": [
            "Empty Array (2x2):\n",
            " [[4.70054272e-310 0.00000000e+000]\n",
            " [6.93489444e-310 0.00000000e+000]]\n",
            "\n",
            "Ones Array (4x2):\n",
            " [[1. 1.]\n",
            " [1. 1.]\n",
            " [1. 1.]\n",
            " [1. 1.]]\n",
            "\n",
            "Full Array (3x3 filled with 7):\n",
            " [[7 7 7]\n",
            " [7 7 7]\n",
            " [7 7 7]]\n",
            "\n",
            "Zeros Like Array:\n",
            " [[0 0]\n",
            " [0 0]]\n",
            "\n",
            "Ones Like Array:\n",
            " [[1 1]\n",
            " [1 1]]\n",
            "\n",
            "Converted Numpy Array from List: [1 2 3 4]\n"
          ]
        }
      ],
      "source": [
        "import numpy as np\n",
        "\n",
        "\n",
        "empty_array = np.empty((2, 2))\n",
        "print(\"Empty Array (2x2):\\n\", empty_array)\n",
        "\n",
        "\n",
        "ones_array = np.ones((4, 2))\n",
        "print(\"\\nOnes Array (4x2):\\n\", ones_array)\n",
        "\n",
        "shape = (3, 3)  # Example shape\n",
        "fill_value = 7\n",
        "full_array = np.full(shape, fill_value)\n",
        "print(\"\\nFull Array (3x3 filled with 7):\\n\", full_array)\n",
        "\n",
        "existing_array = np.array([[1, 2], [3, 4]])  # Example array\n",
        "zeros_like_array = np.zeros_like(existing_array)\n",
        "print(\"\\nZeros Like Array:\\n\", zeros_like_array)\n",
        "\n",
        "ones_like_array = np.ones_like(existing_array)\n",
        "print(\"\\nOnes Like Array:\\n\", ones_like_array)\n",
        "\n",
        "\n",
        "new_list = [1, 2, 3, 4]\n",
        "numpy_array = np.array(new_list)\n",
        "print(\"\\nConverted Numpy Array from List:\", numpy_array)\n"
      ]
    },
    {
      "cell_type": "markdown",
      "source": [
        "qno.2\n"
      ],
      "metadata": {
        "id": "SJSa--r5KFh_"
      }
    },
    {
      "cell_type": "code",
      "source": [
        "import numpy as np\n",
        "\n",
        "# Array from 10 to 49\n",
        "array_10_to_49 = np.arange(10, 50)\n",
        "print(\"Array from 10 to 49:\\n\", array_10_to_49)\n",
        "\n",
        "#  3x3 Matrix from 0 to 8\n",
        "matrix_3x3 = np.arange(9).reshape(3, 3)\n",
        "print(\"\\n3x3 Matrix from 0 to 8:\\n\", matrix_3x3)\n",
        "\n",
        "# 3x3 Identity Matrix\n",
        "identity_matrix = np.eye(3)\n",
        "print(\"\\n3x3 Identity Matrix:\\n\", identity_matrix)\n",
        "\n",
        "#  Random Array (30 elements) and Mean\n",
        "random_array = np.random.random(30)\n",
        "mean_value = random_array.mean()\n",
        "print(\"\\nRandom Array (30 elements):\\n\", random_array)\n",
        "print(\"Mean of the Array:\", mean_value)\n",
        "\n",
        "#  Random 10x10 Array and Min/Max Values\n",
        "random_10x10 = np.random.random((10, 10))\n",
        "min_value = random_10x10.min()\n",
        "max_value = random_10x10.max()\n",
        "print(\"\\nRandom 10x10 Array:\\n\", random_10x10)\n",
        "print(\"Minimum Value:\", min_value)\n",
        "print(\"Maximum Value:\", max_value)\n",
        "\n",
        "# Zero Array of size 10 with 5th element replaced by 1\n",
        "zero_array = np.zeros(10)\n",
        "zero_array[4] = 1  # 5th element (index 4)\n",
        "print(\"\\nZero Array with 5th Element Replaced with 1:\\n\", zero_array)\n",
        "\n",
        "#  Reverse an Array [1, 2, 0, 0, 4, 0]\n",
        "arr = np.array([1, 2, 0, 0, 4, 0])\n",
        "reversed_arr = arr[::-1]\n",
        "print(\"\\nReversed Array:\", reversed_arr)\n",
        "\n",
        "#  2D Array with 1 on Border and 0 Inside\n",
        "border_ones = np.ones((5, 5))\n",
        "border_ones[1:-1, 1:-1] = 0  # Set the inner elements to 0\n",
        "print(\"\\n2D Array with 1 on Border and 0 Inside:\\n\", border_ones)\n",
        "\n",
        "#  8x8 Checkerboard Pattern\n",
        "checkerboard = np.zeros((8, 8), dtype=int)\n",
        "checkerboard[1::2, ::2] = 1\n",
        "checkerboard[::2, 1::2] = 1\n",
        "print(\"\\n8x8 Checkerboard Pattern:\\n\", checkerboard)\n"
      ],
      "metadata": {
        "colab": {
          "base_uri": "https://localhost:8080/"
        },
        "id": "rFDe5P3qKTnI",
        "outputId": "b0e96e22-5847-4380-f723-24890d3bf64f"
      },
      "execution_count": null,
      "outputs": [
        {
          "output_type": "stream",
          "name": "stdout",
          "text": [
            "Array from 10 to 49:\n",
            " [10 11 12 13 14 15 16 17 18 19 20 21 22 23 24 25 26 27 28 29 30 31 32 33\n",
            " 34 35 36 37 38 39 40 41 42 43 44 45 46 47 48 49]\n",
            "\n",
            "3x3 Matrix from 0 to 8:\n",
            " [[0 1 2]\n",
            " [3 4 5]\n",
            " [6 7 8]]\n",
            "\n",
            "3x3 Identity Matrix:\n",
            " [[1. 0. 0.]\n",
            " [0. 1. 0.]\n",
            " [0. 0. 1.]]\n",
            "\n",
            "Random Array (30 elements):\n",
            " [0.1581352  0.70887883 0.16907499 0.01269859 0.09059679 0.70649944\n",
            " 0.77838815 0.01583396 0.66795533 0.59225719 0.28464807 0.12407216\n",
            " 0.99882796 0.05238798 0.71901215 0.33101425 0.19964666 0.06255589\n",
            " 0.85774543 0.22895162 0.40148155 0.0278649  0.85573954 0.16578921\n",
            " 0.63017201 0.47065809 0.20479951 0.08188974 0.98907275 0.51782417]\n",
            "Mean of the Array: 0.4034824034500183\n",
            "\n",
            "Random 10x10 Array:\n",
            " [[0.35630066 0.84421627 0.0942465  0.94097595 0.17112315 0.03207718\n",
            "  0.22862444 0.01411104 0.56434536 0.48842242]\n",
            " [0.5279699  0.04222808 0.86632668 0.48014308 0.35907586 0.82596642\n",
            "  0.27430705 0.21370396 0.15363091 0.04892128]\n",
            " [0.38313228 0.05132577 0.94850156 0.84629682 0.74300739 0.97719609\n",
            "  0.40516422 0.7335675  0.82121398 0.70798041]\n",
            " [0.50249914 0.40358758 0.35324042 0.20409049 0.89897763 0.35311199\n",
            "  0.01493542 0.22301921 0.03785541 0.19036436]\n",
            " [0.75223441 0.84883511 0.58285547 0.05496948 0.2703949  0.85605926\n",
            "  0.93630853 0.12261797 0.21100805 0.20022415]\n",
            " [0.97037279 0.903049   0.68820264 0.76760318 0.70689365 0.94706702\n",
            "  0.25738356 0.35434539 0.69608185 0.59166589]\n",
            " [0.36128219 0.0633961  0.97746784 0.39392927 0.70360241 0.95990154\n",
            "  0.67274609 0.07929274 0.79133568 0.46014587]\n",
            " [0.71450436 0.41162655 0.98513078 0.41714595 0.5434267  0.0103444\n",
            "  0.65343551 0.40295446 0.03875594 0.88316596]\n",
            " [0.85167479 0.42256498 0.69992919 0.15929469 0.09134653 0.69340092\n",
            "  0.99710994 0.41764393 0.39169683 0.09299655]\n",
            " [0.59719772 0.32016142 0.45508055 0.29086096 0.1644649  0.7346763\n",
            "  0.59662095 0.41198956 0.0578885  0.18592866]]\n",
            "Minimum Value: 0.010344402609311576\n",
            "Maximum Value: 0.9971099373341867\n",
            "\n",
            "Zero Array with 5th Element Replaced with 1:\n",
            " [0. 0. 0. 0. 1. 0. 0. 0. 0. 0.]\n",
            "\n",
            "Reversed Array: [0 4 0 0 2 1]\n",
            "\n",
            "2D Array with 1 on Border and 0 Inside:\n",
            " [[1. 1. 1. 1. 1.]\n",
            " [1. 0. 0. 0. 1.]\n",
            " [1. 0. 0. 0. 1.]\n",
            " [1. 0. 0. 0. 1.]\n",
            " [1. 1. 1. 1. 1.]]\n",
            "\n",
            "8x8 Checkerboard Pattern:\n",
            " [[0 1 0 1 0 1 0 1]\n",
            " [1 0 1 0 1 0 1 0]\n",
            " [0 1 0 1 0 1 0 1]\n",
            " [1 0 1 0 1 0 1 0]\n",
            " [0 1 0 1 0 1 0 1]\n",
            " [1 0 1 0 1 0 1 0]\n",
            " [0 1 0 1 0 1 0 1]\n",
            " [1 0 1 0 1 0 1 0]]\n"
          ]
        }
      ]
    },
    {
      "cell_type": "markdown",
      "source": [
        "Qno.3\n"
      ],
      "metadata": {
        "id": "cHO7Jik9KbS2"
      }
    },
    {
      "cell_type": "code",
      "source": [
        "import numpy as np\n",
        "\n",
        "x = np.array([[1, 2], [3, 5]])\n",
        "y = np.array([[5, 6], [7, 8]])\n",
        "v = np.array([9, 10])\n",
        "w = np.array([11, 12])\n",
        "\n",
        "# Add the two arrays\n",
        "add_result = x + y\n",
        "print(\"Addition of x and y:\\n\", add_result)\n",
        "\n",
        "# Subtract the two arrays\n",
        "subtract_result = x - y\n",
        "print(\"\\nSubtraction of x and y:\\n\", subtract_result)\n",
        "\n",
        "#  Multiply the array with any integer of your choice\n",
        "multiply_result = x * 2\n",
        "print(\"\\nMultiplication of x with 2:\\n\", multiply_result)\n",
        "\n",
        "# Find the square of each element of the array\n",
        "square_result = np.square(x)\n",
        "print(\"\\nSquare of each element in x:\\n\", square_result)\n",
        "\n",
        "#  Find the dot product between v and w, x and v, x and y\n",
        "dot_vw = np.dot(v, w)\n",
        "print(\"\\nDot product of v and w:\", dot_vw)\n",
        "\n",
        "dot_xv = np.dot(x, v)\n",
        "print(\"\\nDot product of x and v:\\n\", dot_xv)\n",
        "\n",
        "dot_xy = np.dot(x, y)\n",
        "print(\"\\nDot product of x and y:\\n\", dot_xy)\n",
        "\n",
        "# Concatenate x and y along rows and concatenate v and w along columns\n",
        "concat_xy_rows = np.concatenate((x, y), axis=0)\n",
        "print(\"\\nConcatenate x and y along rows:\\n\", concat_xy_rows)\n",
        "\n",
        "v_reshaped = v.reshape(-1, 1)\n",
        "w_reshaped = w.reshape(-1, 1)\n",
        "concat_vw_cols = np.concatenate((v_reshaped, w_reshaped), axis=1)\n",
        "print(\"\\nConcatenate v and w along columns:\\n\", concat_vw_cols)\n",
        "\n",
        "# Concatenate x and v (Explain the error)\n",
        "try:\n",
        "    concat_xv = np.concatenate((x, v), axis=0)\n",
        "    print(\"\\nConcatenate x and v along rows:\\n\", concat_xv)\n",
        "except Exception as e:\n",
        "    print(\"\\nError when trying to concatenate x and v along rows:\", e)\n",
        "\n",
        "try:\n",
        "    concat_xv_cols = np.concatenate((x, v), axis=1)\n",
        "    print(\"\\nConcatenate x and v along columns:\\n\", concat_xv_cols)\n",
        "except Exception as e:\n",
        "    print(\"\\nError when trying to concatenate x and v along columns:\", e)\n"
      ],
      "metadata": {
        "colab": {
          "base_uri": "https://localhost:8080/"
        },
        "id": "17sYMv6GKdjX",
        "outputId": "3fb4fed0-bc9e-4aa7-c6a4-9fb4004ce1cc"
      },
      "execution_count": null,
      "outputs": [
        {
          "output_type": "stream",
          "name": "stdout",
          "text": [
            "Addition of x and y:\n",
            " [[ 6  8]\n",
            " [10 13]]\n",
            "\n",
            "Subtraction of x and y:\n",
            " [[-4 -4]\n",
            " [-4 -3]]\n",
            "\n",
            "Multiplication of x with 2:\n",
            " [[ 2  4]\n",
            " [ 6 10]]\n",
            "\n",
            "Square of each element in x:\n",
            " [[ 1  4]\n",
            " [ 9 25]]\n",
            "\n",
            "Dot product of v and w: 219\n",
            "\n",
            "Dot product of x and v:\n",
            " [29 77]\n",
            "\n",
            "Dot product of x and y:\n",
            " [[19 22]\n",
            " [50 58]]\n",
            "\n",
            "Concatenate x and y along rows:\n",
            " [[1 2]\n",
            " [3 5]\n",
            " [5 6]\n",
            " [7 8]]\n",
            "\n",
            "Concatenate v and w along columns:\n",
            " [[ 9 11]\n",
            " [10 12]]\n",
            "\n",
            "Error when trying to concatenate x and v along rows: all the input arrays must have same number of dimensions, but the array at index 0 has 2 dimension(s) and the array at index 1 has 1 dimension(s)\n",
            "\n",
            "Error when trying to concatenate x and v along columns: all the input arrays must have same number of dimensions, but the array at index 0 has 2 dimension(s) and the array at index 1 has 1 dimension(s)\n"
          ]
        }
      ]
    },
    {
      "cell_type": "markdown",
      "source": [
        "Qno.4"
      ],
      "metadata": {
        "id": "iWNjyZOTKx22"
      }
    },
    {
      "cell_type": "code",
      "source": [
        "import numpy as np\n",
        "\n",
        "# Arrays\n",
        "A = np.array([[3, 4], [7, 8]])\n",
        "B = np.array([[5, 3], [2, 1]])\n",
        "\n",
        "#Prove A * A^-1 = I\n",
        "A_inv = np.linalg.inv(A)\n",
        "I = np.eye(2)  # 2x2 identity matrix\n",
        "result = np.dot(A, A_inv)\n",
        "print(\"A * A^-1:\\n\", result)\n",
        "print(\"Identity Matrix I:\\n\", I)\n",
        "\n",
        "#  Prove AB != BA\n",
        "AB = np.dot(A, B)\n",
        "BA = np.dot(B, A)\n",
        "print(\"\\nAB:\\n\", AB)\n",
        "print(\"BA:\\n\", BA)\n",
        "\n",
        "#  Prove (AB)^T = B^T * A^T\n",
        "AB_T = np.dot(A, B).T\n",
        "BT_AT = np.dot(B.T, A.T)\n",
        "print(\"\\n(AB)^T:\\n\", AB_T)\n",
        "print(\"B^T * A^T:\\n\", BT_AT)\n",
        "\n",
        "#  Solve the system of linear equations using the Inverse Method\n",
        "\n",
        "# Coefficient matrix A and constants vector B\n",
        "A = np.array([[2, -3, 1], [1, -1, 2], [3, 1, -1]])\n",
        "B = np.array([-1, -3, 9])\n",
        "\n",
        "# Solve for X using the inverse method\n",
        "A_inv = np.linalg.inv(A)\n",
        "X = np.dot(A_inv, B)\n",
        "print(\"\\nSolution (x, y, z) using Inverse Method:\\n\", X)\n",
        "\n",
        "# Solve the system of linear equations using np.linalg.inv directly\n",
        "X_direct = np.linalg.inv(A).dot(B)\n",
        "print(\"\\nDirect Solution using np.linalg.inv:\\n\", X_direct)\n"
      ],
      "metadata": {
        "colab": {
          "base_uri": "https://localhost:8080/"
        },
        "id": "18EwUeMkKy9G",
        "outputId": "7115ac2d-db99-4ec2-8284-a66bf66b2d63"
      },
      "execution_count": null,
      "outputs": [
        {
          "output_type": "stream",
          "name": "stdout",
          "text": [
            "A * A^-1:\n",
            " [[1.00000000e+00 0.00000000e+00]\n",
            " [1.77635684e-15 1.00000000e+00]]\n",
            "Identity Matrix I:\n",
            " [[1. 0.]\n",
            " [0. 1.]]\n",
            "\n",
            "AB:\n",
            " [[23 13]\n",
            " [51 29]]\n",
            "BA:\n",
            " [[36 44]\n",
            " [13 16]]\n",
            "\n",
            "(AB)^T:\n",
            " [[23 51]\n",
            " [13 29]]\n",
            "B^T * A^T:\n",
            " [[23 51]\n",
            " [13 29]]\n",
            "\n",
            "Solution (x, y, z) using Inverse Method:\n",
            " [ 2.  1. -2.]\n",
            "\n",
            "Direct Solution using np.linalg.inv:\n",
            " [ 2.  1. -2.]\n"
          ]
        }
      ]
    }
  ]
}